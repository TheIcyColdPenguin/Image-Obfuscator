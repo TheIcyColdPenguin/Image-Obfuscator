{
 "cells": [
  {
   "cell_type": "code",
   "execution_count": 1,
   "metadata": {},
   "outputs": [],
   "source": [
    "from PIL import Image\n",
    "import numpy as np"
   ]
  },
  {
   "cell_type": "code",
   "execution_count": 8,
   "metadata": {
    "scrolled": false
   },
   "outputs": [
    {
     "data": {
      "image/png": "[encoded data removed]",
      "text/plain": [
       "<PIL.PngImagePlugin.PngImageFile image mode=RGBA size=200x200 at 0x1DE6F69A2E0>"
      ]
     },
     "execution_count": 8,
     "metadata": {},
     "output_type": "execute_result"
    }
   ],
   "source": [
    "img = Image.open('assets/bnw.png')\n",
    "img"
   ]
  },
  {
   "cell_type": "code",
   "execution_count": 9,
   "metadata": {},
   "outputs": [
    {
     "data": {
      "text/plain": [
       "(200, 200)"
      ]
     },
     "execution_count": 9,
     "metadata": {},
     "output_type": "execute_result"
    }
   ],
   "source": [
    "img.size"
   ]
  },
  {
   "cell_type": "code",
   "execution_count": 10,
   "metadata": {},
   "outputs": [],
   "source": [
    "# get flattened image pixel data\n",
    "raw_img_data = list(img.getdata())\n",
    "\n",
    "# organise pixels into 2d list\n",
    "img_data = [[raw_img_data[x + y*img.width] for y in range(img.height)] for x in range(img.width)]\n"
   ]
  },
  {
   "cell_type": "code",
   "execution_count": 11,
   "metadata": {},
   "outputs": [],
   "source": [
    "class Grid:\n",
    "    def __init__(self, table):\n",
    "        self.table = table\n",
    "\n",
    "    def __repr__(self):\n",
    "        return self.table\n",
    "\n",
    "    def first_row(self, step):\n",
    "        data = self.table.pop(0)\n",
    "        return data[::step]\n",
    "\n",
    "    def last_row(self, step):\n",
    "        data = self.table.pop(-1)\n",
    "        return data[::step]\n",
    "\n",
    "    def first_column(self, step):\n",
    "        data = [self.table[i].pop(0)for i in range(len(self.table))]\n",
    "        return data[::step]\n",
    "\n",
    "    def last_column(self, step):\n",
    "        data = [self.table[i].pop(-1)for i in range(len(self.table))]\n",
    "        return data[::step]\n",
    "\n",
    "    def done(self):\n",
    "        return [j for i in self.table for j in i] == []"
   ]
  },
  {
   "cell_type": "code",
   "execution_count": 12,
   "metadata": {},
   "outputs": [],
   "source": [
    "def spiral(list_data):\n",
    "    data = Grid(list_data.copy())\n",
    "    movement = 0\n",
    "    move_options = {\n",
    "        0: data.first_row,\n",
    "        1: data.last_column,\n",
    "        2: data.last_row,\n",
    "        3: data.first_column\n",
    "    }\n",
    "    spiral = []\n",
    "    while True:\n",
    "        try:\n",
    "            spiral.extend(move_options.get(movement % 4)\n",
    "                          (1 if (movement % 4) < 2 else -1))\n",
    "            movement += 1\n",
    "        except IndexError:\n",
    "            if data.done():\n",
    "                break\n",
    "    return spiral\n",
    "spiral_img_data = spiral(img_data)"
   ]
  },
  {
   "cell_type": "code",
   "execution_count": 13,
   "metadata": {},
   "outputs": [
    {
     "data": {
      "image/png": "[encoded data removed]",
      "text/plain": [
       "<PIL.Image.Image image mode=RGB size=200x200 at 0x1DE7EB53940>"
      ]
     },
     "execution_count": 13,
     "metadata": {},
     "output_type": "execute_result"
    }
   ],
   "source": [
    "new_img = Image.new('RGB', img.size, (0, 0, 0))\n",
    "pixels = new_img.load()\n",
    "\n",
    "for x in range(new_img.width):\n",
    "    for y in range(new_img.height):\n",
    "        pixels[x,y] = spiral_img_data[x+y*new_img.width]\n",
    "new_img.save('assets/hmm.png', quality=95, subsampling=0)\n",
    "new_img"
   ]
  }
 ],
 "metadata": {
  "kernelspec": {
   "display_name": "Python 3",
   "language": "python",
   "name": "python3"
  },
  "language_info": {
   "codemirror_mode": {
    "name": "ipython",
    "version": 3
   },
   "file_extension": ".py",
   "mimetype": "text/x-python",
   "name": "python",
   "nbconvert_exporter": "python",
   "pygments_lexer": "ipython3",
   "version": "3.8.5"
  }
 },
 "nbformat": 4,
 "nbformat_minor": 4
}
